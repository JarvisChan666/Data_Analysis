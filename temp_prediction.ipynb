{
 "cells": [
  {
   "cell_type": "markdown",
   "id": "8b677462",
   "metadata": {},
   "source": [
    "**项目分析：一元一次方程的线性回归预测**"
   ]
  },
  {
   "cell_type": "code",
   "execution_count": 48,
   "id": "ac79543c",
   "metadata": {
    "ExecuteTime": {
     "end_time": "2022-04-22T04:40:15.730852Z",
     "start_time": "2022-04-22T04:40:15.725994Z"
    }
   },
   "outputs": [],
   "source": [
    "import numpy as np\n",
    "import matplotlib.pyplot as plt\n",
    "from sklearn.linear_model import LinearRegression"
   ]
  },
  {
   "cell_type": "code",
   "execution_count": 49,
   "id": "198c4542",
   "metadata": {
    "ExecuteTime": {
     "end_time": "2022-04-22T04:40:16.017382Z",
     "start_time": "2022-04-22T04:40:16.006208Z"
    }
   },
   "outputs": [
    {
     "data": {
      "text/plain": [
       "1"
      ]
     },
     "metadata": {},
     "output_type": "display_data"
    },
    {
     "data": {
      "text/plain": [
       "(9,)"
      ]
     },
     "metadata": {},
     "output_type": "display_data"
    }
   ],
   "source": [
    "X_height = np.array([0,500,1000,1500,2000,2500,3000,3500,4000])\n",
    "display(y_height.ndim,y_height.shape)"
   ]
  },
  {
   "cell_type": "code",
   "execution_count": 60,
   "id": "512c7234",
   "metadata": {
    "ExecuteTime": {
     "end_time": "2022-04-22T04:46:48.707148Z",
     "start_time": "2022-04-22T04:46:48.702173Z"
    }
   },
   "outputs": [],
   "source": [
    "X_height = X_height.reshape(-1,1)#这里表示9个方程，必须是二维的,注意要接受返回值"
   ]
  },
  {
   "cell_type": "code",
   "execution_count": 61,
   "id": "c6dd4d7a",
   "metadata": {
    "ExecuteTime": {
     "end_time": "2022-04-22T04:46:49.570375Z",
     "start_time": "2022-04-22T04:46:49.565388Z"
    }
   },
   "outputs": [],
   "source": [
    "y_temp = np.array([12.834044,10.190649,5.500229,2.854665,-0.706488,-4.065323,-7.127480,-10.058879,-13.206465])"
   ]
  },
  {
   "cell_type": "code",
   "execution_count": 63,
   "id": "374f594d",
   "metadata": {
    "ExecuteTime": {
     "end_time": "2022-04-22T04:46:55.908564Z",
     "start_time": "2022-04-22T04:46:55.897585Z"
    }
   },
   "outputs": [
    {
     "data": {
      "text/plain": [
       "array([-0.00656953])"
      ]
     },
     "metadata": {},
     "output_type": "display_data"
    },
    {
     "data": {
      "text/plain": [
       "12.718507511111111"
      ]
     },
     "metadata": {},
     "output_type": "display_data"
    }
   ],
   "source": [
    "model = LinearRegression(fit_intercept=True)\n",
    "model.fit(X_height,y_temp)\n",
    "display(model.coef_,model.intercept_)"
   ]
  },
  {
   "cell_type": "code",
   "execution_count": 67,
   "id": "34e453e8",
   "metadata": {
    "ExecuteTime": {
     "end_time": "2022-04-22T04:52:01.645740Z",
     "start_time": "2022-04-22T04:52:01.635641Z"
    }
   },
   "outputs": [
    {
     "data": {
      "text/plain": [
       "array([-0.00208065])"
      ]
     },
     "metadata": {},
     "output_type": "display_data"
    },
    {
     "data": {
      "text/plain": [
       "0.0"
      ]
     },
     "metadata": {},
     "output_type": "display_data"
    }
   ],
   "source": [
    "model = LinearRegression(fit_intercept=False)#他把那个权重很小的数当成正常数看了，也就是不考虑斜率了，函数过原点，我们要让他知道有一组数据，他在每个方程给的权重是一样的，这个就是截距\n",
    "model.fit(X_height,y_temp)\n",
    "display(model.coef_,model.intercept_)\n",
    "#截距在方程中相当于w0*1,我们想算出截距，因为根据我们的观察，当高度为0时，温度存在一个非0值，所以fit必须设置为true，否则算不出这个值"
   ]
  },
  {
   "cell_type": "code",
   "execution_count": 66,
   "id": "3775b8d7",
   "metadata": {
    "ExecuteTime": {
     "end_time": "2022-04-22T04:47:58.515017Z",
     "start_time": "2022-04-22T04:47:58.507071Z"
    }
   },
   "outputs": [
    {
     "data": {
      "text/plain": [
       "array([-0.00208065])"
      ]
     },
     "execution_count": 66,
     "metadata": {},
     "output_type": "execute_result"
    }
   ],
   "source": [
    "np.linalg.inv(X_height.T.dot(X_height)).dot(X_height.T).dot(y_temp)"
   ]
  },
  {
   "cell_type": "markdown",
   "id": "0a4ccc36",
   "metadata": {},
   "source": [
    "**此时求出了一个系数，因为有多少个列向量，就能解出多少个w，和上面的还不一样，之所以上面能求出，我们让算法考虑了截距存在**"
   ]
  },
  {
   "cell_type": "code",
   "execution_count": 68,
   "id": "38ebcd80",
   "metadata": {
    "ExecuteTime": {
     "end_time": "2022-04-22T04:59:04.043137Z",
     "start_time": "2022-04-22T04:59:04.038170Z"
    }
   },
   "outputs": [],
   "source": [
    "#要想用手敲正规方程算出真正的w0，我们要手动增加，这个过程就是fit_intercept=true的内部原理\n",
    "X_height = np.concatenate([X_height,np.full(shape=(9,1),fill_value=1)],axis = 1)"
   ]
  },
  {
   "cell_type": "code",
   "execution_count": 69,
   "id": "4420379b",
   "metadata": {
    "ExecuteTime": {
     "end_time": "2022-04-22T04:59:07.877467Z",
     "start_time": "2022-04-22T04:59:07.870514Z"
    }
   },
   "outputs": [
    {
     "data": {
      "text/plain": [
       "array([[   0,    1],\n",
       "       [ 500,    1],\n",
       "       [1000,    1],\n",
       "       [1500,    1],\n",
       "       [2000,    1],\n",
       "       [2500,    1],\n",
       "       [3000,    1],\n",
       "       [3500,    1],\n",
       "       [4000,    1]])"
      ]
     },
     "execution_count": 69,
     "metadata": {},
     "output_type": "execute_result"
    }
   ],
   "source": [
    "X_height#增加一列，让正规方程能够算出这个截距\n",
    "#正规方程是由最小二乘法经求导后取极小值时对应的解"
   ]
  },
  {
   "cell_type": "code",
   "execution_count": 71,
   "id": "b7cb47a0",
   "metadata": {
    "ExecuteTime": {
     "end_time": "2022-04-22T05:00:37.415834Z",
     "start_time": "2022-04-22T05:00:37.407828Z"
    }
   },
   "outputs": [
    {
     "data": {
      "text/plain": [
       "array([-0.00656953, 12.71850751])"
      ]
     },
     "execution_count": 71,
     "metadata": {},
     "output_type": "execute_result"
    }
   ],
   "source": [
    "np.set_printoptions(suppress=True)\n",
    "np.linalg.inv(X_height.T.dot(X_height)).dot(X_height.T).dot(y_temp)\n",
    "#求出系数，截距，正规方程就是用来求系数w的，这里我们把b拆解为W0*1就是为了在求正规方程的时候能把截距看做是系数，一并求出，这就要求X加多一列“1”\n",
    "#且sklearn模型要设置为true，机器才知道你要这么干"
   ]
  },
  {
   "cell_type": "markdown",
   "id": "9d2691a6",
   "metadata": {},
   "source": [
    "**总结：考虑截距，是一种添加偏置项的方式，我们让线性方程拜托原点的束缚，使其拟合出来的方程更加精确。之所以存在了截距而使得代码要考虑“截距”的情况，是因为我们的方程本来就存在截距，而且在最小二乘法中“预测值-真实值”时，预测值部分是有个“b”的，也就是ax+b，如果不考虑截距，所得到的正规方程当然就只有一个解，也就相当于sklearn模型不考虑截距，算出来的结果当然不是准的。**"
   ]
  },
  {
   "cell_type": "markdown",
   "id": "b6d8b016",
   "metadata": {},
   "source": [
    "**该章节的点睛之笔就是对b截距的拆分+对x的增广，将他看成系数*1（这里的系数就是截距），使其能用正规方程和前面的系数一并求出，让前面的系数更加精确**"
   ]
  },
  {
   "cell_type": "markdown",
   "id": "d188da4b",
   "metadata": {},
   "source": [
    "**拓展探究：让原数据height=0的方程"
   ]
  }
 ],
 "metadata": {
  "kernelspec": {
   "display_name": "Python 3 (ipykernel)",
   "language": "python",
   "name": "python3"
  },
  "language_info": {
   "codemirror_mode": {
    "name": "ipython",
    "version": 3
   },
   "file_extension": ".py",
   "mimetype": "text/x-python",
   "name": "python",
   "nbconvert_exporter": "python",
   "pygments_lexer": "ipython3",
   "version": "3.9.7"
  },
  "toc": {
   "base_numbering": 1,
   "nav_menu": {},
   "number_sections": true,
   "sideBar": true,
   "skip_h1_title": false,
   "title_cell": "Table of Contents",
   "title_sidebar": "Contents",
   "toc_cell": false,
   "toc_position": {},
   "toc_section_display": true,
   "toc_window_display": false
  },
  "varInspector": {
   "cols": {
    "lenName": 16,
    "lenType": 16,
    "lenVar": 40
   },
   "kernels_config": {
    "python": {
     "delete_cmd_postfix": "",
     "delete_cmd_prefix": "del ",
     "library": "var_list.py",
     "varRefreshCmd": "print(var_dic_list())"
    },
    "r": {
     "delete_cmd_postfix": ") ",
     "delete_cmd_prefix": "rm(",
     "library": "var_list.r",
     "varRefreshCmd": "cat(var_dic_list()) "
    }
   },
   "types_to_exclude": [
    "module",
    "function",
    "builtin_function_or_method",
    "instance",
    "_Feature"
   ],
   "window_display": false
  }
 },
 "nbformat": 4,
 "nbformat_minor": 5
}
