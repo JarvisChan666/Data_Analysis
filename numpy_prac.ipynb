{
 "cells": [
  {
   "cell_type": "code",
   "execution_count": 1,
   "id": "c115f0e7",
   "metadata": {
    "ExecuteTime": {
     "end_time": "2022-04-21T12:15:29.034077Z",
     "start_time": "2022-04-21T12:15:29.029092Z"
    }
   },
   "outputs": [],
   "source": [
    "import numpy as np"
   ]
  },
  {
   "cell_type": "code",
   "execution_count": 2,
   "id": "7fb0f924",
   "metadata": {
    "ExecuteTime": {
     "end_time": "2022-04-21T12:25:56.970345Z",
     "start_time": "2022-04-21T12:25:56.954256Z"
    }
   },
   "outputs": [
    {
     "data": {
      "text/plain": [
       "array([1, 2, 3, 4, 5])"
      ]
     },
     "execution_count": 2,
     "metadata": {},
     "output_type": "execute_result"
    }
   ],
   "source": [
    "arr = np.array([1,2,3,4,5])\n",
    "arr"
   ]
  },
  {
   "cell_type": "code",
   "execution_count": 4,
   "id": "ad56ca46",
   "metadata": {
    "ExecuteTime": {
     "end_time": "2022-04-21T12:27:53.059751Z",
     "start_time": "2022-04-21T12:27:53.052799Z"
    }
   },
   "outputs": [
    {
     "data": {
      "text/plain": [
       "array([[1, 2, 3],\n",
       "       [4, 5, 6]])"
      ]
     },
     "execution_count": 4,
     "metadata": {},
     "output_type": "execute_result"
    }
   ],
   "source": [
    "arr1 = np.array([[1,2,3],[4,5,6]])\n",
    "arr1"
   ]
  },
  {
   "cell_type": "code",
   "execution_count": 5,
   "id": "36b1dcb8",
   "metadata": {
    "ExecuteTime": {
     "end_time": "2022-04-21T12:27:58.575414Z",
     "start_time": "2022-04-21T12:27:58.569451Z"
    }
   },
   "outputs": [
    {
     "data": {
      "text/plain": [
       "(2, 3)"
      ]
     },
     "execution_count": 5,
     "metadata": {},
     "output_type": "execute_result"
    }
   ],
   "source": [
    "arr1.shape"
   ]
  },
  {
   "cell_type": "code",
   "execution_count": 9,
   "id": "ea39845c",
   "metadata": {
    "ExecuteTime": {
     "end_time": "2022-04-21T12:30:28.941135Z",
     "start_time": "2022-04-21T12:30:28.933740Z"
    }
   },
   "outputs": [
    {
     "data": {
      "text/plain": [
       "array([[0., 0.],\n",
       "       [0., 0.],\n",
       "       [0., 0.]])"
      ]
     },
     "execution_count": 9,
     "metadata": {},
     "output_type": "execute_result"
    }
   ],
   "source": [
    "arr = np.zeros([3,2])\n",
    "arr"
   ]
  },
  {
   "cell_type": "code",
   "execution_count": 12,
   "id": "c25dd9f3",
   "metadata": {
    "ExecuteTime": {
     "end_time": "2022-04-21T12:30:58.216497Z",
     "start_time": "2022-04-21T12:30:58.209541Z"
    }
   },
   "outputs": [
    {
     "data": {
      "text/plain": [
       "array([[1., 1.],\n",
       "       [1., 1.],\n",
       "       [1., 1.]])"
      ]
     },
     "execution_count": 12,
     "metadata": {},
     "output_type": "execute_result"
    }
   ],
   "source": [
    "arr = np.ones([3,2])\n",
    "arr"
   ]
  },
  {
   "cell_type": "code",
   "execution_count": 14,
   "id": "af755aa1",
   "metadata": {
    "ExecuteTime": {
     "end_time": "2022-04-21T12:31:50.892289Z",
     "start_time": "2022-04-21T12:31:50.884406Z"
    }
   },
   "outputs": [
    {
     "data": {
      "text/plain": [
       "array([[5, 5, 5, 5, 5],\n",
       "       [5, 5, 5, 5, 5],\n",
       "       [5, 5, 5, 5, 5],\n",
       "       [5, 5, 5, 5, 5],\n",
       "       [5, 5, 5, 5, 5]])"
      ]
     },
     "execution_count": 14,
     "metadata": {},
     "output_type": "execute_result"
    }
   ],
   "source": [
    "arr = np.full([5,5],fill_value=5)\n",
    "arr"
   ]
  },
  {
   "cell_type": "code",
   "execution_count": 18,
   "id": "a0f95dfd",
   "metadata": {
    "ExecuteTime": {
     "end_time": "2022-04-21T12:32:56.292349Z",
     "start_time": "2022-04-21T12:32:56.287883Z"
    }
   },
   "outputs": [],
   "source": [
    "arr = np.eye(N=5,M = 5)#diagonal"
   ]
  },
  {
   "cell_type": "code",
   "execution_count": 19,
   "id": "4d5262fc",
   "metadata": {
    "ExecuteTime": {
     "end_time": "2022-04-21T12:32:57.898493Z",
     "start_time": "2022-04-21T12:32:57.891020Z"
    }
   },
   "outputs": [
    {
     "data": {
      "text/plain": [
       "array([[1., 0., 0., 0., 0.],\n",
       "       [0., 1., 0., 0., 0.],\n",
       "       [0., 0., 1., 0., 0.],\n",
       "       [0., 0., 0., 1., 0.],\n",
       "       [0., 0., 0., 0., 1.]])"
      ]
     },
     "execution_count": 19,
     "metadata": {},
     "output_type": "execute_result"
    }
   ],
   "source": [
    "arr"
   ]
  },
  {
   "cell_type": "code",
   "execution_count": 21,
   "id": "379ec659",
   "metadata": {
    "ExecuteTime": {
     "end_time": "2022-04-21T12:35:44.149039Z",
     "start_time": "2022-04-21T12:35:44.142158Z"
    }
   },
   "outputs": [
    {
     "data": {
      "text/plain": [
       "array([b'l', b' ', b'l', b'o', b'v', b'e', b' ', b'z', b'o', b'o', b'b',\n",
       "       b'e', b'e', b'z', b'o', b'o'], dtype='|S1')"
      ]
     },
     "execution_count": 21,
     "metadata": {},
     "output_type": "execute_result"
    }
   ],
   "source": [
    "x = b'l love zoobeezoo'\n",
    "arr = np.frombuffer(x,dtype = 'S1')\n",
    "arr"
   ]
  },
  {
   "cell_type": "code",
   "execution_count": 24,
   "id": "6c60a498",
   "metadata": {
    "ExecuteTime": {
     "end_time": "2022-04-21T12:37:42.091570Z",
     "start_time": "2022-04-21T12:37:42.086638Z"
    }
   },
   "outputs": [],
   "source": [
    "arr = np.linspace(1,10,10)"
   ]
  },
  {
   "cell_type": "code",
   "execution_count": 29,
   "id": "1b532dc1",
   "metadata": {
    "ExecuteTime": {
     "end_time": "2022-04-21T12:39:18.589289Z",
     "start_time": "2022-04-21T12:39:18.584256Z"
    }
   },
   "outputs": [],
   "source": [
    "arr = np.logspace(1,32,7)"
   ]
  },
  {
   "cell_type": "code",
   "execution_count": 30,
   "id": "58d3cbb9",
   "metadata": {
    "ExecuteTime": {
     "end_time": "2022-04-21T12:39:19.320482Z",
     "start_time": "2022-04-21T12:39:19.312414Z"
    }
   },
   "outputs": [
    {
     "data": {
      "text/plain": [
       "array([1.00000000e+01, 1.46779927e+06, 2.15443469e+11, 3.16227766e+16,\n",
       "       4.64158883e+21, 6.81292069e+26, 1.00000000e+32])"
      ]
     },
     "execution_count": 30,
     "metadata": {},
     "output_type": "execute_result"
    }
   ],
   "source": [
    "arr"
   ]
  },
  {
   "cell_type": "code",
   "execution_count": 34,
   "id": "34b98777",
   "metadata": {
    "ExecuteTime": {
     "end_time": "2022-04-21T12:43:07.363956Z",
     "start_time": "2022-04-21T12:43:07.359356Z"
    }
   },
   "outputs": [],
   "source": [
    "rand = np.random.rand(3,2)"
   ]
  },
  {
   "cell_type": "code",
   "execution_count": 35,
   "id": "846ac62f",
   "metadata": {
    "ExecuteTime": {
     "end_time": "2022-04-21T12:43:07.869584Z",
     "start_time": "2022-04-21T12:43:07.862630Z"
    }
   },
   "outputs": [
    {
     "data": {
      "text/plain": [
       "array([[0.86244961, 0.35019773],\n",
       "       [0.97595496, 0.11213844],\n",
       "       [0.58020621, 0.41363461]])"
      ]
     },
     "execution_count": 35,
     "metadata": {},
     "output_type": "execute_result"
    }
   ],
   "source": [
    "rand"
   ]
  },
  {
   "cell_type": "code",
   "execution_count": 37,
   "id": "ffe30691",
   "metadata": {
    "ExecuteTime": {
     "end_time": "2022-04-21T12:45:21.981933Z",
     "start_time": "2022-04-21T12:45:21.977388Z"
    }
   },
   "outputs": [],
   "source": [
    "rand = np.random.random(3)"
   ]
  },
  {
   "cell_type": "code",
   "execution_count": 38,
   "id": "bfbb859e",
   "metadata": {
    "ExecuteTime": {
     "end_time": "2022-04-21T12:45:25.095402Z",
     "start_time": "2022-04-21T12:45:25.088956Z"
    }
   },
   "outputs": [
    {
     "data": {
      "text/plain": [
       "array([0.44419045, 0.00637552, 0.26827231])"
      ]
     },
     "execution_count": 38,
     "metadata": {},
     "output_type": "execute_result"
    }
   ],
   "source": [
    "rand"
   ]
  },
  {
   "cell_type": "code",
   "execution_count": 39,
   "id": "b9559c0e",
   "metadata": {
    "ExecuteTime": {
     "end_time": "2022-04-21T12:46:07.694018Z",
     "start_time": "2022-04-21T12:46:07.689039Z"
    }
   },
   "outputs": [],
   "source": [
    "arr = np.random.randint(1,10,5)"
   ]
  },
  {
   "cell_type": "code",
   "execution_count": 40,
   "id": "66782ff7",
   "metadata": {
    "ExecuteTime": {
     "end_time": "2022-04-21T12:46:11.965382Z",
     "start_time": "2022-04-21T12:46:11.957619Z"
    }
   },
   "outputs": [
    {
     "data": {
      "text/plain": [
       "array([9, 9, 4, 1, 7])"
      ]
     },
     "execution_count": 40,
     "metadata": {},
     "output_type": "execute_result"
    }
   ],
   "source": [
    "arr"
   ]
  },
  {
   "cell_type": "code",
   "execution_count": 43,
   "id": "835f6375",
   "metadata": {
    "ExecuteTime": {
     "end_time": "2022-04-21T12:47:05.768191Z",
     "start_time": "2022-04-21T12:47:05.761237Z"
    }
   },
   "outputs": [
    {
     "data": {
      "text/plain": [
       "array([[-0.80697752, -1.37635606,  1.35643357,  0.55824404],\n",
       "       [-1.64756984, -0.03880985,  0.6488157 ,  0.73103493]])"
      ]
     },
     "execution_count": 43,
     "metadata": {},
     "output_type": "execute_result"
    }
   ],
   "source": [
    "arr = np.random.randn(2,4)\n",
    "arr"
   ]
  },
  {
   "cell_type": "code",
   "execution_count": 44,
   "id": "d80a1440",
   "metadata": {
    "ExecuteTime": {
     "end_time": "2022-04-21T12:51:48.373365Z",
     "start_time": "2022-04-21T12:51:48.363938Z"
    }
   },
   "outputs": [
    {
     "data": {
      "text/plain": [
       "array([[1, 2, 3],\n",
       "       [4, 5, 6],\n",
       "       [7, 8, 9]])"
      ]
     },
     "execution_count": 44,
     "metadata": {},
     "output_type": "execute_result"
    }
   ],
   "source": [
    "arr = np.array([[1,2,3],[4,5,6],[7,8,9]])\n",
    "arr"
   ]
  },
  {
   "cell_type": "code",
   "execution_count": 47,
   "id": "2ace221a",
   "metadata": {
    "ExecuteTime": {
     "end_time": "2022-04-21T12:53:29.601444Z",
     "start_time": "2022-04-21T12:53:29.596145Z"
    }
   },
   "outputs": [
    {
     "name": "stdout",
     "output_type": "stream",
     "text": [
      "[2 5 8]\n"
     ]
    }
   ],
   "source": [
    "print(arr[[0,1,2],[1,1,1]])#配对pair"
   ]
  },
  {
   "cell_type": "code",
   "execution_count": 48,
   "id": "61840254",
   "metadata": {
    "ExecuteTime": {
     "end_time": "2022-04-21T12:54:40.001879Z",
     "start_time": "2022-04-21T12:54:39.997158Z"
    }
   },
   "outputs": [
    {
     "name": "stdout",
     "output_type": "stream",
     "text": [
      "[[1 2]\n",
      " [4 5]]\n"
     ]
    }
   ],
   "source": [
    "print(arr[0:2,0:2])"
   ]
  },
  {
   "cell_type": "code",
   "execution_count": 50,
   "id": "229847b7",
   "metadata": {
    "ExecuteTime": {
     "end_time": "2022-04-21T12:55:30.376100Z",
     "start_time": "2022-04-21T12:55:30.370104Z"
    }
   },
   "outputs": [
    {
     "name": "stdout",
     "output_type": "stream",
     "text": [
      "[[1 2]\n",
      " [4 5]]\n"
     ]
    }
   ],
   "source": [
    "print(arr[0:2,[0,1]])#索引辅助"
   ]
  },
  {
   "cell_type": "code",
   "execution_count": null,
   "id": "b48cc802",
   "metadata": {},
   "outputs": [],
   "source": []
  }
 ],
 "metadata": {
  "kernelspec": {
   "display_name": "Python 3 (ipykernel)",
   "language": "python",
   "name": "python3"
  },
  "language_info": {
   "codemirror_mode": {
    "name": "ipython",
    "version": 3
   },
   "file_extension": ".py",
   "mimetype": "text/x-python",
   "name": "python",
   "nbconvert_exporter": "python",
   "pygments_lexer": "ipython3",
   "version": "3.9.7"
  },
  "toc": {
   "base_numbering": 1,
   "nav_menu": {},
   "number_sections": true,
   "sideBar": true,
   "skip_h1_title": false,
   "title_cell": "Table of Contents",
   "title_sidebar": "Contents",
   "toc_cell": false,
   "toc_position": {},
   "toc_section_display": true,
   "toc_window_display": false
  },
  "varInspector": {
   "cols": {
    "lenName": 16,
    "lenType": 16,
    "lenVar": 40
   },
   "kernels_config": {
    "python": {
     "delete_cmd_postfix": "",
     "delete_cmd_prefix": "del ",
     "library": "var_list.py",
     "varRefreshCmd": "print(var_dic_list())"
    },
    "r": {
     "delete_cmd_postfix": ") ",
     "delete_cmd_prefix": "rm(",
     "library": "var_list.r",
     "varRefreshCmd": "cat(var_dic_list()) "
    }
   },
   "types_to_exclude": [
    "module",
    "function",
    "builtin_function_or_method",
    "instance",
    "_Feature"
   ],
   "window_display": false
  }
 },
 "nbformat": 4,
 "nbformat_minor": 5
}
